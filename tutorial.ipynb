{
 "cells": [
  {
   "cell_type": "markdown",
   "metadata": {
    "slideshow": {
     "slide_type": "slide"
    }
   },
   "source": [
    "# Widgets tutorial\n",
    "## By Oscar Fajardo Fontiveros"
   ]
  },
  {
   "cell_type": "code",
   "execution_count": null,
   "metadata": {},
   "outputs": [],
   "source": [
    "import ipywidgets as widgets\n",
    "from ipywidgets import interactive\n",
    "from IPython.display import display"
   ]
  },
  {
   "cell_type": "code",
   "execution_count": null,
   "metadata": {},
   "outputs": [],
   "source": [
    "import numpy as np\n",
    "import matplotlib.pyplot as plt\n",
    "from scipy.integrate import quad"
   ]
  },
  {
   "cell_type": "code",
   "execution_count": 3,
   "metadata": {
    "collapsed": true
   },
   "outputs": [],
   "source": [
    "def integrand_sin(x,f,T,n):\n",
    "    return np.sin((2*np.pi/T)*x)*f(x)\n",
    "\n",
    "def bn_fourier_sin(f,T,n):\n",
    "    return 2/T*quad(integrand_sin,-T/2,T/2,args=(f,T,n))"
   ]
  },
  {
   "cell_type": "code",
   "execution_count": 4,
   "metadata": {
    "collapsed": true
   },
   "outputs": [],
   "source": [
    "def integrand_cos(x,f,T,n):\n",
    "    return np.cos((2*np.pi/T)*x)*f(x)\n",
    "\n",
    "def bn_fourier_cos(f,T,n):\n",
    "    return 2/T*quad(integrand_sin,-T/2,T/2,args=(f,T,n))"
   ]
  },
  {
   "cell_type": "code",
   "execution_count": 21,
   "metadata": {
    "collapsed": true,
    "slideshow": {
     "slide_type": "slide"
    }
   },
   "outputs": [],
   "source": [
    "#1. Define function that will be called when an action occours\n",
    "def plot_wave(A,omega,delta):\n",
    "    x = np.arange(-2*np.pi,2*np.pi,0.001)\n",
    "    plt.clf()\n",
    "    plt.title(r\"$A={},\\omega ={},\\delta ={}$\".format(A,omega,delta))\n",
    "    plt.plot(x,A*np.sin(omega*x-delta))\n",
    "    plt.show()"
   ]
  },
  {
   "cell_type": "code",
   "execution_count": 23,
   "metadata": {
    "collapsed": true,
    "slideshow": {
     "slide_type": "slide"
    }
   },
   "outputs": [],
   "source": [
    "#2. Create widgets\n",
    "\n",
    "amplitude = widgets.FloatSlider(\n",
    "    value=1.0,\n",
    "    min=0,\n",
    "    max=10,\n",
    "    step=0.1,\n",
    "    description='Amplitude:',\n",
    "    disabled=False,\n",
    "    continuous_update=False,\n",
    "    orientation='horizontal',\n",
    "    readout=True,\n",
    "    readout_format='.1f',\n",
    ")\n",
    "\n",
    "Omega = widgets.FloatSlider(\n",
    "    value=1.0,\n",
    "    min=0,\n",
    "    max=2*np.pi,\n",
    "    step=0.1,\n",
    "    description='Omega:',\n",
    "    disabled=False,\n",
    "    continuous_update=False,\n",
    "    orientation='horizontal',\n",
    "    readout=True,\n",
    "    readout_format='.1f',\n",
    ")\n",
    "\n",
    "delta = widgets.FloatSlider(\n",
    "    value=1.0,\n",
    "    min=0,\n",
    "    max=2*np.pi,\n",
    "    step=0.1,\n",
    "    description='delta:',\n",
    "    disabled=False,\n",
    "    continuous_update=False,\n",
    "    orientation='horizontal',\n",
    "    readout=True,\n",
    "    readout_format='.1f',\n",
    ")\n",
    "\n"
   ]
  },
  {
   "cell_type": "code",
   "execution_count": 24,
   "metadata": {
    "slideshow": {
     "slide_type": "slide"
    }
   },
   "outputs": [
    {
     "data": {
      "application/vnd.jupyter.widget-view+json": {
       "model_id": "7ad1493a56ac416ca3538f1a4e70f13a"
      }
     },
     "metadata": {},
     "output_type": "display_data"
    }
   ],
   "source": [
    "#3. Link widgets with the function\n",
    "\n",
    "\n",
    "#Using decorator\n",
    "'''@interact(A=amplitude,omega=Omega,delta=delta)\n",
    "def plot_wave(A,omega,delta):\n",
    "    x = np.arange(-2*np.pi,2*np.pi)\n",
    "    plt.clf()\n",
    "    plt.plot(a,np.sin(omega*x-delta))\n",
    "    plt.show()'''\n",
    "\n",
    "    \n",
    "#Using the function\n",
    "interactive(plot_wave,A=amplitude,omega=Omega,delta=delta)"
   ]
  },
  {
   "cell_type": "code",
   "execution_count": null,
   "metadata": {},
   "outputs": [],
   "source": [
    "from IPython.display import IFrame    \n",
    "IFrame(\"https://ipywidgets.readthedocs.io/en/latest/examples/Widget%20List.html\", width=900, height=650)"
   ]
  },
  {
   "cell_type": "code",
   "execution_count": null,
   "metadata": {},
   "outputs": [],
   "source": []
  }
 ],
 "metadata": {
  "celltoolbar": "Slideshow",
  "kernelspec": {
   "display_name": "Python 3",
   "language": "python",
   "name": "python3"
  },
  "language_info": {
   "codemirror_mode": {
    "name": "ipython",
    "version": 3
   },
   "file_extension": ".py",
   "mimetype": "text/x-python",
   "name": "python",
   "nbconvert_exporter": "python",
   "pygments_lexer": "ipython3",
   "version": "3.5.2"
  }
 },
 "nbformat": 4,
 "nbformat_minor": 2
}
